{
 "cells": [
  {
   "cell_type": "markdown",
   "metadata": {},
   "source": [
    "# Python 1: Data Types: Lists, Sequence methods and Dictionaries\n",
    "\n",
    "One of the useful features of Python are its compound data types. The main two are lists and dictionaries.\n",
    "\n",
    "## Lists\n",
    "\n",
    "A list is an ordered, indexable collection of data. Lets say you have collected data on the AT content of some proteins:"
   ]
  },
  {
   "cell_type": "markdown",
   "metadata": {},
   "source": [
    "        AT_content:\n",
    "        0.53\n",
    "        0.4\n",
    "        0.3\n",
    "        0.8\n",
    "        0.6\n"
   ]
  },
  {
   "cell_type": "markdown",
   "metadata": {},
   "source": [
    "So you could put that data into a list like this:"
   ]
  },
  {
   "cell_type": "code",
   "execution_count": null,
   "metadata": {
    "collapsed": false
   },
   "outputs": [],
   "source": [
    "at_content = [0.5, 0.4, 0.3, 0.8, 0.6]"
   ]
  },
  {
   "cell_type": "markdown",
   "metadata": {},
   "source": [
    "### Sorting a list\n",
    "\n",
    "A list can be sorted in place, like this:"
   ]
  },
  {
   "cell_type": "code",
   "execution_count": null,
   "metadata": {
    "collapsed": false
   },
   "outputs": [],
   "source": [
    "at_content.sort()\n",
    "print(at_content)"
   ]
  },
  {
   "cell_type": "markdown",
   "metadata": {},
   "source": [
    "### Adding to a list\n",
    "\n",
    "We can add to the list by using append:"
   ]
  },
  {
   "cell_type": "code",
   "execution_count": null,
   "metadata": {
    "collapsed": false
   },
   "outputs": [],
   "source": [
    "at_content.append(0.4)\n",
    "print(at_content)"
   ]
  },
  {
   "cell_type": "markdown",
   "metadata": {},
   "source": [
    "Let's say we have multiple values we want to add. These are kept in a separate list. There are two ways of adding to a list, append and extend. Let's try both:"
   ]
  },
  {
   "cell_type": "code",
   "execution_count": null,
   "metadata": {
    "collapsed": false
   },
   "outputs": [],
   "source": [
    "add_items = [0.1, 0.2]\n",
    "at_content.append(add_items)\n",
    "print(at_content)"
   ]
  },
  {
   "cell_type": "markdown",
   "metadata": {},
   "source": [
    "**Question:** what happened here?\n",
    "\n",
    "Create a new list, at_content2, with the same numbers as in at_content. Try doing the same as above with extend instead of append. What happens?\n",
    "\n",
    "**Question:** would you use append or extend in this situation? Can you explain the difference between the two?\n",
    "\n",
    "## Sequence methods\n",
    "\n",
    "Lists and strings are both what we call \"sequence types\". These are types where the order of elements are important. These can be manipulated using the same methods.\n",
    "\n",
    "### Indices\n",
    "\n",
    "Let's first recreate the at_content list:"
   ]
  },
  {
   "cell_type": "code",
   "execution_count": null,
   "metadata": {
    "collapsed": false
   },
   "outputs": [],
   "source": [
    "at_content = [0.5, 0.4, 0.3, 0.8, 0.6]\n",
    "print(at_content)"
   ]
  },
  {
   "cell_type": "markdown",
   "metadata": {},
   "source": [
    "We can access elements in lists and strings using indices. Python indices go from zero. Therefore, to find the value of the first item in at_content, we do this:"
   ]
  },
  {
   "cell_type": "code",
   "execution_count": null,
   "metadata": {
    "collapsed": false
   },
   "outputs": [],
   "source": [
    "print(at_content[0])"
   ]
  },
  {
   "cell_type": "markdown",
   "metadata": {},
   "source": [
    "And to find the value of the third item"
   ]
  },
  {
   "cell_type": "code",
   "execution_count": null,
   "metadata": {
    "collapsed": false
   },
   "outputs": [],
   "source": [
    "print(at_content[2])"
   ]
  },
  {
   "cell_type": "markdown",
   "metadata": {},
   "source": [
    "Lists can be indexed from the end using a negative index. The last item of at_content is accessed like this:"
   ]
  },
  {
   "cell_type": "code",
   "execution_count": null,
   "metadata": {
    "collapsed": false
   },
   "outputs": [],
   "source": [
    "print(at_content[-1])"
   ]
  },
  {
   "cell_type": "markdown",
   "metadata": {},
   "source": [
    "and the next-to-last"
   ]
  },
  {
   "cell_type": "code",
   "execution_count": null,
   "metadata": {
    "collapsed": false
   },
   "outputs": [],
   "source": [
    "print(at_content[-2])"
   ]
  },
  {
   "cell_type": "markdown",
   "metadata": {},
   "source": [
    "### Slicing\n",
    "\n",
    "You can \"slice\" items from within a list. Lets say we wanted the second through fourth items from at_content"
   ]
  },
  {
   "cell_type": "code",
   "execution_count": null,
   "metadata": {
    "collapsed": false
   },
   "outputs": [],
   "source": [
    "print(at_content[1:4])"
   ]
  },
  {
   "cell_type": "markdown",
   "metadata": {},
   "source": [
    "Or from the third item to the end"
   ]
  },
  {
   "cell_type": "code",
   "execution_count": null,
   "metadata": {
    "collapsed": false
   },
   "outputs": [],
   "source": [
    "print(at_content[2:])"
   ]
  },
  {
   "cell_type": "markdown",
   "metadata": {},
   "source": [
    "and so on.\n",
    "\n",
    "### Task: Slicing\n",
    "\n",
    "Create a list called newlist which contains the numbers below:\n",
    "\n",
    "[0.5, 0.6, 0.8, 0.4, [0.1, 0.2]]\n",
    "\n",
    "1. Get python to print the list that is inside the list.\n",
    "2. Get python to print last element of the list inside the list.\n",
    "\n",
    "### Stepping Through a List\n",
    "\n",
    "What does the following program print?"
   ]
  },
  {
   "cell_type": "code",
   "execution_count": null,
   "metadata": {
    "collapsed": false
   },
   "outputs": [],
   "source": [
    "element = 'fluorine'\n",
    "print(element[::2])\n",
    "print(element[::-1])"
   ]
  },
  {
   "cell_type": "markdown",
   "metadata": {},
   "source": [
    "1.  If we write a slice as `low:high:stride`, what does `stride` do?\n",
    "2.  What expression would select all of the even-numbered items from a collection?\n",
    "\n",
    "### Slice Bounds\n",
    "\n",
    "What does the following program print?"
   ]
  },
  {
   "cell_type": "code",
   "execution_count": null,
   "metadata": {
    "collapsed": false
   },
   "outputs": [],
   "source": [
    "element = 'lithium'\n",
    "print(element[0:20])\n",
    "print(element[-1:3])"
   ]
  },
  {
   "cell_type": "markdown",
   "metadata": {},
   "source": [
    "### Sort and Sorted\n",
    "\n",
    "What do these two programs print?\n",
    "In simple terms, explain the difference between `sorted(letters)` and `letters.sort()`."
   ]
  },
  {
   "cell_type": "code",
   "execution_count": null,
   "metadata": {
    "collapsed": false
   },
   "outputs": [],
   "source": [
    "# Program A\n",
    "letters = list('gold')\n",
    "result = sorted(letters)\n",
    "print('letters is', letters, 'and result is', result)"
   ]
  },
  {
   "cell_type": "code",
   "execution_count": null,
   "metadata": {
    "collapsed": false
   },
   "outputs": [],
   "source": [
    "# Program B\n",
    "letters = list('gold')\n",
    "result = letters.sort()\n",
    "print('letters is', letters, 'and result is', result)"
   ]
  },
  {
   "cell_type": "markdown",
   "metadata": {},
   "source": [
    "### The in operator\n",
    "\n",
    "We can figure out if an element is in a sequence typed object, i.e. list or string with the in operator.\n",
    "\n",
    "Let's make a string and figure out whether certain things are in the string:"
   ]
  },
  {
   "cell_type": "code",
   "execution_count": null,
   "metadata": {
    "collapsed": false
   },
   "outputs": [],
   "source": [
    "teststring = \"AUGUAGGGAUGG\"\n",
    "print(\"A\" in teststring)\n",
    "print(\"AUG\" in teststring)"
   ]
  },
  {
   "cell_type": "markdown",
   "metadata": {},
   "source": [
    "The result is either `True` or `False`, both if which are Boolean values. We'll meet so-called *conditional statements* that result in Boolean values (True or False) many times throughout the course.\n",
    "\n",
    "**Question:** can you find out if there were any Ts in this string? If there are none, what does that tell you?\n",
    "\n",
    "### Concatenation\n",
    "\n",
    "We can use the + sign to concatenate strings and lists.\n",
    "\n",
    "First with lists:"
   ]
  },
  {
   "cell_type": "code",
   "execution_count": null,
   "metadata": {
    "collapsed": false
   },
   "outputs": [],
   "source": [
    "list1 = [\"A\", \"B\", \"C\", \"D\"]\n",
    "list2 = [1, 2, 3, 4]\n",
    "print(list1 + list2)"
   ]
  },
  {
   "cell_type": "markdown",
   "metadata": {},
   "source": [
    "and now for strings:"
   ]
  },
  {
   "cell_type": "code",
   "execution_count": null,
   "metadata": {
    "collapsed": false
   },
   "outputs": [],
   "source": [
    "text1 = \"Watson\"\n",
    "text2 = \"Crick\"\n",
    "print(text1 + text2)"
   ]
  },
  {
   "cell_type": "markdown",
   "metadata": {},
   "source": [
    "**Question:** what would you do to the strings above to introduce a space between Watson and Crick?\n",
    "\n",
    "### Length, minimum and maximums\n",
    "\n",
    "Sometimes you want to know how many items are in a list. Use the len command."
   ]
  },
  {
   "cell_type": "code",
   "execution_count": null,
   "metadata": {
    "collapsed": false
   },
   "outputs": [],
   "source": [
    "print(len(at_content))"
   ]
  },
  {
   "cell_type": "markdown",
   "metadata": {},
   "source": [
    "Next, we can find the minimum and the maximum of at_content."
   ]
  },
  {
   "cell_type": "code",
   "execution_count": null,
   "metadata": {
    "collapsed": false
   },
   "outputs": [],
   "source": [
    "print(min(at_content))\n",
    "print(max(at_content))"
   ]
  },
  {
   "cell_type": "markdown",
   "metadata": {},
   "source": [
    "NOTE: when using min and max on a string, the min and max are found by looking at each character in lexicographic order. Let's try:"
   ]
  },
  {
   "cell_type": "code",
   "execution_count": null,
   "metadata": {
    "collapsed": false
   },
   "outputs": [],
   "source": [
    "mytext = \"TtAaGgCc\"\n",
    "print(min(mytext))\n",
    "print(max(mytext))"
   ]
  },
  {
   "cell_type": "markdown",
   "metadata": {},
   "source": [
    "### Task: Open reading frame G count\n",
    "\n",
    "Given the DNA string \"CGAGATGGCAGCACGAGCACAGGA\", do the following:\n",
    "\n",
    "1. Store the string as the variable dna.\n",
    "2. Figure out how to find where the open reading frame starts (starts with ATG). Save the value in the variable number.\n",
    "3. Slice the string, so that only the open reading frame remains (no stop codons in the string, so just stop at the end). Save this as the variable orf.\n",
    "4. Count and print the number of Gs in the open reading frame.\n",
    "\n",
    "## Dictionaries\n",
    "\n",
    "A python dictionary is a collection of key, value pairs. The key is a way to name the data, and the value is the data itself.\n",
    "\n",
    "Today we are going to create a dictionary that contains part of the genetic code. We are going to take this table here and create a dictionary from it:"
   ]
  },
  {
   "cell_type": "markdown",
   "metadata": {},
   "source": [
    "        ATA                I\n",
    "        ATG                M\n",
    "        ACA                T\n",
    "        AAC                N\n",
    "        CGA                R\n",
    "        CAG                Q\n"
   ]
  },
  {
   "cell_type": "markdown",
   "metadata": {},
   "source": [
    "Now we are going to create a dictionary from this, using the codons as keys and the one-letter amino acids as values. This will enable us to translate from DNA to protein."
   ]
  },
  {
   "cell_type": "code",
   "execution_count": null,
   "metadata": {
    "collapsed": false
   },
   "outputs": [],
   "source": [
    "codon_table = {\"ATA\":\"I\", \"ATG\":\"M\", \"ACA\":\"T\", \"AAC\":\"N\", \"CGA\":\"R\", \"CAG\":\"Q\" }"
   ]
  },
  {
   "cell_type": "markdown",
   "metadata": {},
   "source": [
    "Dictionaries are very good for storing data where the relationship between elements matter. In this case, the important thing is the relationship between the codon and the amino acid. The order of the codons do not matter.\n",
    "\n",
    "So, let's manipulate this dictionary a bit.\n",
    "\n",
    "### Lookup\n",
    "\n",
    "A dictionary is often used to look up the value of a certain key. In this case, let's find out which amino acid you would get from ATA:"
   ]
  },
  {
   "cell_type": "code",
   "execution_count": null,
   "metadata": {
    "collapsed": false
   },
   "outputs": [],
   "source": [
    "print(codon_table[\"ATA\"])"
   ]
  },
  {
   "cell_type": "markdown",
   "metadata": {},
   "source": [
    "Let's try another one, CCG:"
   ]
  },
  {
   "cell_type": "code",
   "execution_count": null,
   "metadata": {
    "collapsed": false
   },
   "outputs": [],
   "source": [
    "print(codon_table[\"CCG\"])"
   ]
  },
  {
   "cell_type": "markdown",
   "metadata": {},
   "source": [
    "Oups -  that did not work did it? Can you figure out what went wrong?\n",
    "\n",
    "### The in operator, and adding to the list\n",
    "\n",
    "From the last example it seems it would be useful to be able to tell whether a key is part of a dictionary. We can do this using the in operator, just like we did for lists:"
   ]
  },
  {
   "cell_type": "code",
   "execution_count": null,
   "metadata": {
    "collapsed": false
   },
   "outputs": [],
   "source": [
    "print(\"AAC\" in codon_table)\n",
    "print(\"CCG\" in codon_table)"
   ]
  },
  {
   "cell_type": "markdown",
   "metadata": {},
   "source": [
    "So, CCG is not in the table. Let's add it. CCG codes for P, proline. Adding a new key-value pair to a dictionary simply means defining it:"
   ]
  },
  {
   "cell_type": "code",
   "execution_count": null,
   "metadata": {
    "collapsed": false
   },
   "outputs": [],
   "source": [
    "codon_table[\"CCG\"] = \"P\""
   ]
  },
  {
   "cell_type": "markdown",
   "metadata": {},
   "source": [
    "Let's now look at what we have in the dictionary:"
   ]
  },
  {
   "cell_type": "code",
   "execution_count": null,
   "metadata": {
    "collapsed": false
   },
   "outputs": [],
   "source": [
    "print(codon_table)"
   ]
  },
  {
   "cell_type": "markdown",
   "metadata": {},
   "source": [
    "As you can see the new codon is in there. Let's redo the test, just to make sure our eyes are not deceiving us:"
   ]
  },
  {
   "cell_type": "code",
   "execution_count": null,
   "metadata": {
    "collapsed": false
   },
   "outputs": [],
   "source": [
    "print(\"CCG\" in codon_table)"
   ]
  },
  {
   "cell_type": "markdown",
   "metadata": {},
   "source": [
    "### Keys and values\n",
    "\n",
    "We can access all the keys and the values of a dictionary using the keys() and the values() methods:"
   ]
  },
  {
   "cell_type": "code",
   "execution_count": null,
   "metadata": {
    "collapsed": false
   },
   "outputs": [],
   "source": [
    "print(codon_table.keys())\n",
    "print(codon_table.values())"
   ]
  },
  {
   "cell_type": "markdown",
   "metadata": {},
   "source": [
    "All python data types like lists, strings and dictionaries have help documentation available. Try typing in"
   ]
  },
  {
   "cell_type": "code",
   "execution_count": null,
   "metadata": {
    "collapsed": false
   },
   "outputs": [],
   "source": [
    "help(dict)"
   ]
  },
  {
   "cell_type": "markdown",
   "metadata": {},
   "source": [
    "The python webpages also have a lot of information, and a very good tutorial:\n",
    "\n",
    "\"The python tutorial\": \"(http://docs.python.org/2/tutorial)\"\n",
    "\n",
    "A lot of the material taught in this course draws heavily on this book:\n",
    "\n",
    "\"Python for Bioinformatics by Sebastian Bassi\": \"(http://www.amazon.com/Bioinformatics-Chapman-Mathematical-Computational-Biology/dp/1584889292)\"\n",
    "\n",
    "\n",
    "## Task: ORF finding\n",
    "\n",
    "Below is part of a python script that is meant to translate a DNA string into RNA, find the open reading frame in it (only look for the start codon AUG), find the stop codon (in this case UAA) and print the string from that position until the start of the stop codon.\n",
    "\n",
    "In the code there are words missing. Fill them in."
   ]
  },
  {
   "cell_type": "code",
   "execution_count": null,
   "metadata": {
    "collapsed": false
   },
   "outputs": [],
   "source": [
    "seq = \"ATTATGAGATTACAGAGCTAAGAC\"\n",
    "mrna = seq._______(\"T\", \"U\")\n",
    "start = mrna.find(\"___\")\n",
    "stop = mrna.____(\"UAA\")\n",
    "print(mrna[_____:stop])"
   ]
  },
  {
   "cell_type": "markdown",
   "metadata": {},
   "source": [
    "### Task: CG frequency\n",
    "\n",
    "CpG islands are regions of sequence that contain higher than expected number of CpG (CG) dinucleotides (this is a C followed by a G, i.e. the substring CG). CpG islands are found near or in 40% of all promoters in mammalian genomes. We will now create a script that will allow us to calculate the CG frequency in a given string.\n",
    "\n",
    "Define the DNA string `CGCTACGGACGTAGCCAGCGA`.\n",
    "\n",
    "Create a script that will calculate the percent of CG dinucleotides in the string. Note, a string that contains N nucleotides, contains N-1 dinucleotides."
   ]
  }
 ],
 "metadata": {},
 "nbformat": 4,
 "nbformat_minor": 2
}
