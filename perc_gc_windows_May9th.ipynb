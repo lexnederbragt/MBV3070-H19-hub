{
 "cells": [
  {
   "cell_type": "code",
   "execution_count": 1,
   "metadata": {},
   "outputs": [],
   "source": [
    "# collecting code to make one notebook for the whole pipeline"
   ]
  },
  {
   "cell_type": "code",
   "execution_count": 2,
   "metadata": {},
   "outputs": [],
   "source": [
    "# 1 read data\n",
    "# 2 chop into windows\n",
    "# 3 calculate GC per window\n",
    "# 4 plot GC histogram"
   ]
  },
  {
   "cell_type": "code",
   "execution_count": 3,
   "metadata": {},
   "outputs": [],
   "source": [
    "%matplotlib inline\n",
    "from matplotlib import pyplot as plt"
   ]
  },
  {
   "cell_type": "code",
   "execution_count": 4,
   "metadata": {},
   "outputs": [],
   "source": [
    "def get_windows(dna, window_size):\n",
    "    \"\"\"Returns non-overlapping windows from a DNA sequence\"\"\"\n",
    "    windows = []\n",
    "    for i in range(0, len(dna), window_size):\n",
    "        window = dna[i:i + window_size]\n",
    "        windows.append(window)\n",
    "    return windows"
   ]
  },
  {
   "cell_type": "code",
   "execution_count": 5,
   "metadata": {},
   "outputs": [],
   "source": [
    "def get_gc(dna):\n",
    "    \"\"\"Calculates the percentage of GC\n",
    "       Takes a DNA sequence as input\"\"\"\n",
    "    g_count = dna.count(\"G\")\n",
    "    c_count = dna.count(\"C\")\n",
    "    gc_perc = 100*(g_count + c_count)/len(dna)\n",
    "    return gc_perc"
   ]
  },
  {
   "cell_type": "code",
   "execution_count": 6,
   "metadata": {},
   "outputs": [
    {
     "name": "stdout",
     "output_type": "stream",
     "text": [
      "Identifier: >gi|49175990|ref|NC_000913.2| Escherichia coli str. K-12 substr. MG1655, complete genome\n",
      "\n"
     ]
    }
   ],
   "source": [
    "# 1 read data\n",
    "filename = \"data/NC_000913_E_coli_K12.fasta\"\n",
    "f = open(filename, \"r\")\n",
    "lines = f.readlines()\n",
    "f.close()\n",
    "print(\"Identifier:\", lines[0])"
   ]
  },
  {
   "cell_type": "code",
   "execution_count": 7,
   "metadata": {},
   "outputs": [
    {
     "name": "stdout",
     "output_type": "stream",
     "text": [
      "4639675\n"
     ]
    }
   ],
   "source": [
    "genome = \"\"\n",
    "for line in lines[1:]:\n",
    "    genome = genome + line.strip() # genome += line.strip()\n",
    "print(len(genome))"
   ]
  },
  {
   "cell_type": "code",
   "execution_count": 8,
   "metadata": {},
   "outputs": [],
   "source": [
    "# 2 chop"
   ]
  },
  {
   "cell_type": "code",
   "execution_count": 9,
   "metadata": {},
   "outputs": [
    {
     "name": "stdout",
     "output_type": "stream",
     "text": [
      "46397\n"
     ]
    }
   ],
   "source": [
    "genome_windows = get_windows(genome, 100)\n",
    "print(len(genome_windows))"
   ]
  },
  {
   "cell_type": "code",
   "execution_count": 10,
   "metadata": {},
   "outputs": [],
   "source": [
    "# 3 calculate GC"
   ]
  },
  {
   "cell_type": "code",
   "execution_count": 11,
   "metadata": {},
   "outputs": [
    {
     "name": "stdout",
     "output_type": "stream",
     "text": [
      "46397\n"
     ]
    }
   ],
   "source": [
    "genome_GCs = []\n",
    "for window in genome_windows:\n",
    "    gc_perc = get_gc(window)\n",
    "    genome_GCs.append(gc_perc)\n",
    "print(len(genome_GCs))"
   ]
  },
  {
   "cell_type": "code",
   "execution_count": 12,
   "metadata": {},
   "outputs": [],
   "source": [
    "# 4 plot"
   ]
  },
  {
   "cell_type": "code",
   "execution_count": 16,
   "metadata": {},
   "outputs": [
    {
     "data": {
      "image/png": "[encoded data removed]",
      "text/plain": [
       "<Figure size 432x288 with 1 Axes>"
      ]
     },
     "metadata": {
      "needs_background": "light"
     },
     "output_type": "display_data"
    }
   ],
   "source": [
    "plt.hist(genome_GCs, bins = 100)\n",
    "plt.xlabel('GC percentage')\n",
    "plt.ylabel('Count')\n",
    "plt.title('GC distribution of E. coli K12 substr MG1655')\n",
    "plt.savefig('gc_dist_E_coli_K12.pdf')\n",
    "plt.show()"
   ]
  },
  {
   "cell_type": "code",
   "execution_count": null,
   "metadata": {},
   "outputs": [],
   "source": []
  }
 ],
 "metadata": {
  "kernelspec": {
   "display_name": "Python 3",
   "language": "python",
   "name": "python3"
  },
  "language_info": {
   "codemirror_mode": {
    "name": "ipython",
    "version": 3
   },
   "file_extension": ".py",
   "mimetype": "text/x-python",
   "name": "python",
   "nbconvert_exporter": "python",
   "pygments_lexer": "ipython3",
   "version": "3.6.7"
  }
 },
 "nbformat": 4,
 "nbformat_minor": 2
}
