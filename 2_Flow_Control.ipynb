{
 "cells": [
  {
   "cell_type": "markdown",
   "metadata": {},
   "source": [
    "# Python 2 : Control flow - Boolean expressions, if statements and for loops.\n",
    "\n",
    "For some exercises, the code is commented. Comments begin with a # sign, and anything after that is ignored. You do not need to type in the # and anything after.\n",
    "\n",
    "## Boolean expressions\n",
    "\n",
    "One basic element of programming is to be able to compare things, to see if they are equal or if one is larger or smaller than another. Many of the ways of comparing things are similar to those found in other languages."
   ]
  },
  {
   "cell_type": "code",
   "execution_count": null,
   "metadata": {
    "collapsed": false
   },
   "outputs": [],
   "source": [
    "a = 1\n",
    "b = 2\n",
    "print(a == b) # are the two the same?\n",
    "print(a < b) # is a less than b?\n",
    "print(a <= b) # is a less than or equal to b?\n",
    "print(a > b) # is a larger than b?\n",
    "print(a >= b) # is a larger or greater than b?\n",
    "print(a != b) # is a not equal to b?"
   ]
  },
  {
   "cell_type": "markdown",
   "metadata": {},
   "source": [
    "Note, we can also test the results of doing something, like this:"
   ]
  },
  {
   "cell_type": "code",
   "execution_count": null,
   "metadata": {
    "collapsed": false
   },
   "outputs": [],
   "source": [
    "word = \"Hello\"\n",
    "print(len(word) < 10) # is the length of this word shorter than 10?\n",
    "beatles=[\"George\", \"Ringo\",\"John\", \"Paul\"]\n",
    "print(len(beatles) == 4) # are there four members in beatles?"
   ]
  },
  {
   "cell_type": "markdown",
   "metadata": {},
   "source": [
    "However, python has other equivalence test statements that are fairly\n",
    "unique to python. To check whether an object is contained in a list:"
   ]
  },
  {
   "cell_type": "code",
   "execution_count": null,
   "metadata": {
    "collapsed": false
   },
   "outputs": [],
   "source": [
    "beatle=\"John\"\n",
    "beatles=[\"George\", \"Ringo\",\"John\", \"Paul\"]\n",
    "print(beatle in beatles) # is John in the list beatles?\n",
    "print(\"Tom\" in beatles) # is there somebody in the list beatles called Tom?"
   ]
  },
  {
   "cell_type": "markdown",
   "metadata": {},
   "source": [
    "We can also combine these with and, or and not. Let's see how this works:"
   ]
  },
  {
   "cell_type": "code",
   "execution_count": null,
   "metadata": {
    "collapsed": false
   },
   "outputs": [],
   "source": [
    "beatle=\"John\"\n",
    "beatles=[\"George\", \"Ringo\",\"John\", \"Paul\"]\n",
    "print(beatle)\n",
    "print(beatle in beatles)\n",
    "print(len(beatles) == 4)\n",
    "print(beatle in beatles and len(beatles) == 4) # is \"John\" in beatles, and are there four entries (members) in the beatles list?\n",
    "print(len(beatles) > 4) # are there more than four members in the beatles list?\n",
    "print(beatle in beatles or len(beatles) > 4) # is \"John\" in beatles, or are are there more than 4 members in the list?\n",
    "print(len(beatles) > 3) # are there more than three members in the beatles list?\n",
    "print(beatle in beatles or not len(beatles) >3)  # is \"John\" in beatles, or not more than 3 members in beathes"
   ]
  },
  {
   "cell_type": "markdown",
   "metadata": {},
   "source": [
    "## If statements\n",
    "\n",
    "\n",
    "If statements are a way to select which parts of a piece of code that should be run depending on a condition, something that turns out to be true or false. An if statement consists of one if, zero or more elifs and maybe one else. Look at the if statement below, and figure out which parts of the code that would be run, and what would be printed in the end."
   ]
  },
  {
   "cell_type": "code",
   "execution_count": null,
   "metadata": {
    "collapsed": false
   },
   "outputs": [],
   "source": [
    "i = 4\n",
    "sign = \"zero\"\n",
    "\n",
    "if i < 0: #the if statement begins here\n",
    "    sign = \"negative\"\n",
    "elif i > 0:\n",
    "    sign = \"positive\"\n",
    "else:\n",
    "    print(\"Sign must be zero\")\n",
    "    print(\"Have a nice day\") # and ends here\n",
    "\n",
    "print(sign)"
   ]
  },
  {
   "cell_type": "markdown",
   "metadata": {},
   "source": [
    "**Questions:**\n",
    "\n",
    "* what is printed at the end when this piece of code is run?\n",
    "\n",
    "* figure out what you need to change in order for this piece of code to print out \"Sign must be zero\" and \"Have an nice day\"?\n",
    "\n",
    "Note, Python uses **indentation** to delimit code blocks. The indentation above is NOT just to make things look pretty - it tells Python what the body of the if-statement is. This is true whenever we create any code blocks.\n",
    "\n",
    "\n",
    "### Task: GCdecider.py - Figuring out if a DNA string has more or less than 50 % GC content.\n",
    "\n",
    "The goal for this task is to figure out if a piece of DNA contains more than 50% GCs or not. This basically means counting the number of Gs and Cs and figuring out if these together make up more than 50% of the number of nucleotides in the string.\n",
    "\n",
    "Below is skeleton script that will do this. Copy this cell and edit your copy: determine what each line of code should do, and fill in the missing text. Try to run it, does it work?"
   ]
  },
  {
   "cell_type": "code",
   "execution_count": null,
   "metadata": {
    "collapsed": false
   },
   "outputs": [],
   "source": [
    "___ = \"ATGGCATGGCATGGC\"\n",
    "g = dna._____(\"G\")\n",
    "c = ___.count(_)\n",
    "gc = (g + c)*100.0/___(____)\n",
    "if ______:\n",
    "    print(\"GC content is above or equal to 50%\")\n",
    "else:\n",
    "    print(\"GC content is below 50%\")"
   ]
  },
  {
   "cell_type": "markdown",
   "metadata": {},
   "source": [
    "## For Loops with lists\n",
    "\n",
    "**for** loops in python are used to iterate over collections of things (they can be used for much more, but for now this definition will do).\n",
    "\n",
    "Let's start with a very simple list, and see how **for** behaves. To do this part, go back to the interactive shell."
   ]
  },
  {
   "cell_type": "code",
   "execution_count": null,
   "metadata": {
    "collapsed": false
   },
   "outputs": [],
   "source": [
    "forlist = [1, 2 , 3, \"a\", 5, 9, \"c\"]\n",
    "for elem in forlist:\n",
    "    print(elem)"
   ]
  },
  {
   "cell_type": "markdown",
   "metadata": {},
   "source": [
    "We can also create what is called nested for loops, this is when we have a loop within another one:"
   ]
  },
  {
   "cell_type": "code",
   "execution_count": null,
   "metadata": {
    "collapsed": false
   },
   "outputs": [],
   "source": [
    "numbers = [1, 2, 3, 4, 5]\n",
    "words = [\"green plants\", \"yellow sun\", \"blue water\"]\n",
    "for num in numbers:\n",
    "    for word in words:\n",
    "        print(num, word)"
   ]
  },
  {
   "cell_type": "markdown",
   "metadata": {},
   "source": [
    "Explain to yourself what happens here. How are the elements from each of the two lists combined?\n",
    "\n",
    "## For Loops with Dictionaries\n",
    "\n",
    "With a list, then, it's clear that we can use the **in** keyword to indicate a list of things, and that we can create nested loops. How do we use use for loops with dicionaries? The clue here is to remember that the keys in a dictionary work like a list."
   ]
  },
  {
   "cell_type": "code",
   "execution_count": null,
   "metadata": {
    "collapsed": false
   },
   "outputs": [],
   "source": [
    "codondict = {}\n",
    "codondict[\"UUU\"] = \"F\"\n",
    "codondict[\"ACA\"] = \"T\"\n",
    "codondict[\"CGG\"] = \"R\"\n",
    "for key in codondict:\n",
    "    print(key, codondict[key])"
   ]
  },
  {
   "cell_type": "markdown",
   "metadata": {},
   "source": [
    "This way we see both the keys and their values.\n",
    "\n",
    "# range() - create list of numbers\n",
    "\n",
    "\n",
    "With the range command, we can create a list of numbers that we can use in for loops:"
   ]
  },
  {
   "cell_type": "code",
   "execution_count": null,
   "metadata": {
    "collapsed": false
   },
   "outputs": [],
   "source": [
    "numbers = range(10)\n",
    "print(numbers)"
   ]
  },
  {
   "cell_type": "markdown",
   "metadata": {},
   "source": [
    "With this way of writing it, range will produce numbers from 0 to the number in the parenthesis.\n",
    "\n",
    "We can also specify where it should start, and also the step size between the numbers:"
   ]
  },
  {
   "cell_type": "code",
   "execution_count": null,
   "metadata": {
    "collapsed": false
   },
   "outputs": [],
   "source": [
    "numbers = range(0, 12, 3)  # start, stop, step size\n",
    "print(numbers)"
   ]
  },
  {
   "cell_type": "markdown",
   "metadata": {},
   "source": [
    "With this construct, we have a way of grabbing each codon in a piece of DNA:"
   ]
  },
  {
   "cell_type": "code",
   "execution_count": null,
   "metadata": {
    "collapsed": false
   },
   "outputs": [],
   "source": [
    "dna = \"ATGGCATGGCATGGC\"\n",
    "dnalen = len(dna)\n",
    "numbers = range(0, dnalen, 3)  # start, stop, step size\n",
    "print(numbers)\n",
    "for index in numbers:\n",
    "    print(dna[index:index+3])"
   ]
  },
  {
   "cell_type": "markdown",
   "metadata": {},
   "source": [
    "We can now use this to translate a protein.\n",
    "\n",
    "## Translate proteins\n",
    "\n",
    "When you have a DNA string and a table of which codons translate to which amino acids, you can translate DNA to  protein manually. With Python, we can do it a bit more efficiently. First, let's define a dictionary which can translate between them, and a DNA string to translate:"
   ]
  },
  {
   "cell_type": "code",
   "execution_count": null,
   "metadata": {
    "collapsed": false
   },
   "outputs": [],
   "source": [
    "codon_table = {\"ATA\":\"I\", \"ATG\":\"M\", \"ACA\":\"T\", \\\n",
    "               \"AAC\":\"N\", \"CGA\":\"R\", \"CAG\":\"Q\", \"TGA\": \"*\"}"
   ]
  },
  {
   "cell_type": "markdown",
   "metadata": {},
   "source": [
    "Then, define a new variable that will contain the protein string. We now need a list of numbers that we can use to slice the string with. Next, we use a for loop to iterate over triplets of the string. We use each triplet as a key in the dictionary, and add the resulting amino acid to the protein string (concatenate them using +). Finally, print the string."
   ]
  },
  {
   "cell_type": "code",
   "execution_count": null,
   "metadata": {
    "collapsed": false
   },
   "outputs": [],
   "source": [
    "dna = ''\n",
    "protein = \"\"\n",
    "dnalen = len(dna)\n",
    "numbers = range(0, dnalen, 3)  # start, stop, step size\n",
    "for index in numbers:\n",
    "    codon = dna[index:index+3]\n",
    "    aa = codon_table[codon]\n",
    "    protein = protein + aa\n",
    "print(protein)"
   ]
  },
  {
   "cell_type": "markdown",
   "metadata": {},
   "source": [
    "Try running this script with this DNA sequence: `ATGCAGAACATA`\n",
    "\n",
    "\n",
    "## Task: Stop at stop codon.\n",
    "\n",
    "Let's say you have a different DNA string, `ACACAGCGAAACTGAACAATG`.\n",
    "\n",
    "First, try running the script above with this string instead of the other one.\n",
    "\n",
    "As you might see, you now get a stop codon in the code.\n",
    "\n",
    "Figure out how you can use an if statement inside of the loop to skip over the stop codon, or, for a more challenging exercise, how to stop after the stop codon. Hint: instead of focusing on what you do if you see that stop codon, focus on what you do if a codon is not a stop codon."
   ]
  }
 ],
 "metadata": {},
 "nbformat": 4,
 "nbformat_minor": 2
}
