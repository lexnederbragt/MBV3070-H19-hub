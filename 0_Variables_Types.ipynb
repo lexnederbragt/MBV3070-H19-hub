{
 "cells": [
  {
   "cell_type": "markdown",
   "metadata": {},
   "source": [
    "# Python 0: Variable Types (with focus on String and String methods)\n",
    "\n",
    "\n",
    "There are many different kinds of programming languages. The language we are using today is python, which is an interpreted language. This means that we can write in code and it will be executed right away.\n",
    "\n",
    "You can work with python in several ways, for example in the Jupyter Notebook, or you can write bits of code in a file and have that run by the python interpreter for you.\n",
    "\n",
    "NOTE: a line anywhere in python that is preceded with a # is a comment and is ignored by python!\n",
    "\n",
    "## How to do these exercises\n",
    "\n",
    "In this exercise you will see python code in code cells. Try running it in in the notebook, and see what happens. You will also see some questions being asked through the exercise, try to answer those while you are working through them. These questions will either be gone through during the exercise, or at the beginning of the next exercise.\n",
    "\n",
    "## Getting started\n",
    "\n",
    "Let's start very simply with some calculations:"
   ]
  },
  {
   "cell_type": "code",
   "execution_count": null,
   "metadata": {
    "collapsed": false
   },
   "outputs": [],
   "source": [
    "print(2 + 2)\n",
    "print(2*8)"
   ]
  },
  {
   "cell_type": "markdown",
   "metadata": {},
   "source": [
    "We can also work with strings in python:"
   ]
  },
  {
   "cell_type": "code",
   "execution_count": null,
   "metadata": {
    "collapsed": false
   },
   "outputs": [],
   "source": [
    "print(\"Hello world!\")\n",
    "print('Ada ' + 'Lovelace')"
   ]
  },
  {
   "cell_type": "markdown",
   "metadata": {},
   "source": [
    "Strings can actually be added together.\n",
    "\n",
    "Questions:\n",
    "* Remove the space in Ada. What happens?\n",
    "\n",
    "* Replace the `+` with a comma. What happens?\n",
    "\n",
    "# String methods\n",
    "\n",
    "Strings can be created by putting single, double or triple quotation marks around a piece of text. In this case we will be using the example string \"ATG GGC ATG GGC\" to demonstrate some string methods. Note that we recognize this string as a DNA sequence, but that for python, it simply is a string.\n",
    "\n",
    "We will first count the number of Cs, replace a T with a U, split the text on whitespace and then find the occurrence of the first C."
   ]
  },
  {
   "cell_type": "code",
   "execution_count": null,
   "metadata": {
    "collapsed": false
   },
   "outputs": [],
   "source": [
    "print(\"ATG GGC ATG GGC\".count(\"C\"))\n",
    "print(\"ATG GGC ATG GGC\".replace(\"T\", \"U\"))\n",
    "print(\"ATG GGC ATG GGC\".split())\n",
    "print(\"ATG GGC ATG GGC\".find(\"C\"))"
   ]
  },
  {
   "cell_type": "markdown",
   "metadata": {},
   "source": [
    "Questions:\n",
    "* Why the first C is in position 6?\n",
    "\n",
    "* Can you explain the result of the `split` command?\n",
    "\n",
    "* How would you find the number of Ts?\n",
    "\n",
    "* How would you find the position of the first T?\n",
    "\n",
    "* Can you remove the spaces in the string?\n",
    "\n",
    "## Using variables\n",
    "\n",
    "In a programming situation, we usually have data that we want to do something to. We want to be able to work on the data without having to specify it directly, like we did with the numbers and \"Hello World\" above. Instead of specifying the data directly, we can use variables. Variables are names for data that we can do things twith. Many languages require us to specify what kind the data a variable should contain should be, like strings or numbers. Python does not require this, we can use them directly. This is called dynamic typing.\n",
    "\n",
    "When you give a variable a value, you are assigning that value to that variable."
   ]
  },
  {
   "cell_type": "code",
   "execution_count": null,
   "metadata": {
    "collapsed": false
   },
   "outputs": [],
   "source": [
    "a = 1\n",
    "print(a)\n",
    "a = 'pigeon'\n",
    "print(a)\n",
    "a = 2 + 7\n",
    "print(a)"
   ]
  },
  {
   "cell_type": "markdown",
   "metadata": {},
   "source": [
    "Variables can be thought of being labels on values - you can move the label onto a different value. However, beware that Python does not assume any default values for variables - you have to assign them before use:"
   ]
  },
  {
   "cell_type": "code",
   "execution_count": null,
   "metadata": {
    "collapsed": false
   },
   "outputs": [],
   "source": [
    "print(b)"
   ]
  },
  {
   "cell_type": "markdown",
   "metadata": {},
   "source": [
    "**Question:** what happened when you typed in b, without assigning a value to b first?\n",
    "\n",
    "## Strings are immutable\n",
    "\n",
    "When working with strings, it is important to note that a string is immutable, it cannot be changed *in place*. Let's see what consequences this has:"
   ]
  },
  {
   "cell_type": "code",
   "execution_count": null,
   "metadata": {
    "collapsed": false
   },
   "outputs": [],
   "source": [
    "first_string = \"ATCATCATC\"\n",
    "first_string.replace(\"T\", \"U\")\n",
    "print(first_string)"
   ]
  },
  {
   "cell_type": "markdown",
   "metadata": {},
   "source": [
    "As you can see, the string itself has not changed! If you want to modify a string, you need to assign the modified string to a new variable."
   ]
  },
  {
   "cell_type": "code",
   "execution_count": null,
   "metadata": {
    "collapsed": false
   },
   "outputs": [],
   "source": [
    "second_string = first_string.replace(\"T\", \"U\")\n",
    "print(second_string)\n",
    "print(first_string)"
   ]
  },
  {
   "cell_type": "markdown",
   "metadata": {},
   "source": [
    "As you can see, `second_string` now contains the modified string, while `first_string` remains the same.\n",
    "\n",
    "\n",
    "## Dynamic and strong typing\n",
    "\n",
    "Python also has what is called strong typing, this means that python will protest if you do something that the datatype does not allow for. As an example, what happens when we try to concatenate, i.e. combine two Python variables, string and integer:"
   ]
  },
  {
   "cell_type": "code",
   "execution_count": null,
   "metadata": {
    "collapsed": false
   },
   "outputs": [],
   "source": [
    "string = \"green\"\n",
    "number = 4\n",
    "print(string + number )"
   ]
  },
  {
   "cell_type": "markdown",
   "metadata": {},
   "source": [
    "## Type conversion\n",
    "\n",
    "Sometimes a number can be interpreted as a text string when you need it to work as a number. This can be fixed by converting it to an integer (a whole number). We can also convert to decimal numbers - floats. These have a decimal point in them."
   ]
  },
  {
   "cell_type": "code",
   "execution_count": null,
   "metadata": {
    "collapsed": false
   },
   "outputs": [],
   "source": [
    "print(int('2') + 3)\n",
    "print('2' + str('3'))\n",
    "print(string + str(number))"
   ]
  },
  {
   "cell_type": "markdown",
   "metadata": {},
   "source": [
    "### Task: Finding the GC content of a string\n",
    "\n",
    "Let's say you have the string `\"AGACTGAGGT\"`. We would like to know how much GC there is in this string.\n",
    "\n",
    "Below there is some partially complete code that will calculate this value. Copy the code into a new cell, fill in the underscores, and try to run it."
   ]
  },
  {
   "cell_type": "code",
   "execution_count": null,
   "metadata": {
    "collapsed": false
   },
   "outputs": [],
   "source": [
    "DNA = ___\n",
    "g = ___.count(___)\n",
    "c = DNA.___(___)\n",
    "gc_count = _ + _\n",
    "\n",
    "print(\"GC count: \", ____)"
   ]
  },
  {
   "cell_type": "markdown",
   "metadata": {},
   "source": [
    "**Question:** How much GC did the sequence have?"
   ]
  }
 ],
 "metadata": {},
 "nbformat": 4,
 "nbformat_minor": 2
}
