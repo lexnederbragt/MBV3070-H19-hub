{
 "cells": [
  {
   "cell_type": "markdown",
   "metadata": {},
   "source": [
    "# Reading and Writing files\n",
    "\n",
    "\n",
    "### Fasta file\n",
    "\n",
    "The sequence below is the mRNA sequence for hemoglobin subunit B. Save it in a file called `hbb.fna`: Select `New` from the top right of the window, then `Text File`. Paste the sequence below and save it under the right name. **Note**: you have to save the file in the same folder that your notebook is in.\n",
    "\n",
    "`fna` stands for 'fasta nucleic acid', where 'fasta' refers to the [fasta file format](https://en.wikipedia.org/wiki/FASTA_format)."
   ]
  },
  {
   "cell_type": "markdown",
   "metadata": {},
   "source": [
    "        >gi|28302128|ref|NM_000518.4| Homo sapiens hemoglobin, beta (HBB)\n",
    "        ACATTTGCTTCTGACACAACTGTGTTCACTAGCAACCTCAAACAGACACCATGGTGCATCTGACTCCTGA\n",
    "        GGAGAAGTCTGCCGTTACTGCCCTGTGGGGCAAGGTGAACGTGGATGAAGTTGGTGGTGAGGCCCTGGGC\n",
    "        AGGCTGCTGGTGGTCTACCCTTGGACCCAGAGGTTCTTTGAGTCCTTTGGGGATCTGTCCACTCCTGATG\n",
    "        CTGTTATGGGCAACCCTAAGGTGAAGGCTCATGGCAAGAAAGTGCTCGGTGCCTTTAGTGATGGCCTGGC\n",
    "        TCACCTGGACAACCTCAAGGGCACCTTTGCCACACTGAGTGAGCTGCACTGTGACAAGCTGCACGTGGAT\n",
    "        CCTGAGAACTTCAGGCTCCTGGGCAACGTGCTGGTCTGTGTGCTGGCCCATCACTTTGGCAAAGAATTCA\n",
    "        CCCCACCAGTGCAGGCTGCCTATCAGAAAGTGGTGGCTGGTGTGGCTAATGCCCTGGCCCACAAGTATCA\n",
    "        CTAAGCTCGCTTTCTTGCTGTCCAATTTCTATTAAAGGTTCCTTTGTTCCCTAAGTCCAACTACTAAACT\n",
    "        GGGGGATATTATGAAGGGCCTTGAGCATCTGGATTCTGCCTAATAAAAAACATTTATTTTCATTGC\n"
   ]
  },
  {
   "cell_type": "markdown",
   "metadata": {},
   "source": [
    "### Codon translation file.\n",
    "\n",
    "Save data below in a file called `translationtable.txt`."
   ]
  },
  {
   "cell_type": "markdown",
   "metadata": {},
   "source": [
    "        codon\tamino_acid\n",
    "        TAG     *\n",
    "        TGA     *\n",
    "        TAA     *\n",
    "        GCT     A\n",
    "        GCA     A\n",
    "        GCC     A\n",
    "        GCG     A\n",
    "        TGT     C\n",
    "        TGC     C\n",
    "        GAC     D\n",
    "        GAT     D\n",
    "        GAG     E\n",
    "        GAA     E\n",
    "        TTC     F\n",
    "        TTT     F\n",
    "        GGA     G\n",
    "        GGG     G\n",
    "        GGT     G\n",
    "        GGC     G\n",
    "        CAC     H\n",
    "        CAT     H\n",
    "        ATA     I\n",
    "        ATC     I\n",
    "        ATT     I\n",
    "        AAG     K\n",
    "        AAA     K\n",
    "        CTA     L\n",
    "        CTC     L\n",
    "        CTT     L\n",
    "        TTG     L\n",
    "        TTA     L\n",
    "        CTG     L\n",
    "        ATG     M\n",
    "        AAT     N\n",
    "        AAC     N\n",
    "        CCC     P\n",
    "        CCT     P\n",
    "        CCA     P\n",
    "        CCG     P\n",
    "        CAA     Q\n",
    "        CAG     Q\n",
    "        AGG     R\n",
    "        AGA     R\n",
    "        CGA     R\n",
    "        CGG     R\n",
    "        CGT     R\n",
    "        CGC     R\n",
    "        TCA     S\n",
    "        AGT     S\n",
    "        TCG     S\n",
    "        TCC     S\n",
    "        TCT     S\n",
    "        AGC     S\n",
    "        ACA     T\n",
    "        ACT     T\n",
    "        ACG     T\n",
    "        ACC     T\n",
    "        GTA     V\n",
    "        GTC     V\n",
    "        GTT     V\n",
    "        GTG     V\n",
    "        TGG     W\n",
    "        TAC     Y\n",
    "        TAT     Y\n"
   ]
  },
  {
   "cell_type": "markdown",
   "metadata": {},
   "source": [
    "We are now going to see how we can read and write to files.\n",
    "\n",
    "## Creating a codon table dictionary\n",
    "\n",
    "We are now going to read in the `translationtable.txt` file, and create a dictionary from it."
   ]
  },
  {
   "cell_type": "code",
   "execution_count": null,
   "metadata": {
    "collapsed": false
   },
   "outputs": [],
   "source": [
    "fh = open('translationtable.txt', \"r\") # the translation table file\n",
    "lines = fh.readlines()\n",
    "print(lines)\n",
    "print(len(lines))\n",
    "fh.close()"
   ]
  },
  {
   "cell_type": "markdown",
   "metadata": {},
   "source": [
    "**Questions:**\n",
    "\n",
    "* How many entries does it contain?\n",
    "\n",
    "* Can you tell whether the table is tab separated, or if there are just spaces in between the entries?\n",
    "\n",
    "Next, we are going to use a for loop to read in all the entries into a dictionary, with the codons as the key, and the amino acid as the value.\n",
    "\n",
    "In a new codecell, use the previous program without the `print` statements, and add the following code:"
   ]
  },
  {
   "cell_type": "code",
   "execution_count": null,
   "metadata": {
    "collapsed": false
   },
   "outputs": [],
   "source": [
    "codon_table = {}\n",
    "for line in lines:\n",
    "    without_newline = line.replace(\"\\n\", \"\")\n",
    "    fields = without_newline.split()\n",
    "    codon = fields[0]\n",
    "    aminoacid = fields[1]\n",
    "    codon_table[codon] = aminoacid"
   ]
  },
  {
   "cell_type": "markdown",
   "metadata": {},
   "source": [
    "Check the results:"
   ]
  },
  {
   "cell_type": "code",
   "execution_count": null,
   "metadata": {
    "collapsed": false
   },
   "outputs": [],
   "source": [
    "print(codon_table)"
   ]
  },
  {
   "cell_type": "markdown",
   "metadata": {},
   "source": [
    "But note: you will see that you actually also get the first line of the file in here - this is no codon-amino acid pair.\n",
    "\n",
    "**Question:** How do you skip the first line when passing through the input file lines? Hint: this involves slicing.\n",
    "\n",
    "Repeat the above code without the first line, and see what you get.\n",
    "\n",
    "**Question:** how would you iterate over the dictionary and show all codon-amino acid pairs?\n",
    "\n",
    "## Reading in a fasta file\n",
    "\n",
    "We now have a codon to amino acid mapping dictionary. Remember that the file `hbb.fna` that you saved above is the mRNA sequence for hemoglobin subunit B. Let's try to translate that into protein.\n",
    "\n",
    "First, we need to read in the file. Create a new codecell with a code to read the content of the `hbb.fna` file, skips the first line and removes the newlines so that you end up with the DNA sequence as one string in a variable called `mRNA`.\n",
    "\n",
    "**Question:** after we have translated the DNA string, we will want to print it out to a new file, with the original heading. What would you need to change to your program so we could store the heading for later?\n",
    "\n",
    "## Translate to protein\n",
    "\n",
    "Now we have the translation table, and the mRNA. Now we are going to translate it to protein. What we do here is to slice the mRNA into codons and use them to look up the amino acid in the codon table. Then, we stick that onto the string that contains the protein.\n",
    "\n",
    "The program below has some underscores in it that has to be replaced. A lot of this are things you saw in the previous exercises. Figure out what goes instead of the underscore, copy the code into a new codecell and finish it."
   ]
  },
  {
   "cell_type": "code",
   "execution_count": null,
   "metadata": {
    "collapsed": false
   },
   "outputs": [],
   "source": [
    "protein = \"\"\n",
    "dnalen = len(____)-2\n",
    "numbers = range(0, ____, 3)  # start, stop, step size\n",
    "for index in _______:\n",
    "    codon = mRNA[_____:index+3]\n",
    "    aa = codon_table[_____]\n",
    "    protein = _______ + aa\n",
    "print(protein)"
   ]
  },
  {
   "cell_type": "markdown",
   "metadata": {},
   "source": [
    "**Questions:**\n",
    "\n",
    "* what are we subtracting from the length of the mRNA? What is the consequence of this?\n",
    "\n",
    "* what happens in the three lines inside the for loop?\n",
    "\n",
    "## Printing the results to file.\n",
    "\n",
    "Last, but not least, let's get this output to file. Let's first figure out how to get it nicely formatted. In this case, in our file we should have a header line followed by the amino acids, 60 per line."
   ]
  },
  {
   "cell_type": "code",
   "execution_count": null,
   "metadata": {
    "collapsed": false
   },
   "outputs": [],
   "source": [
    "output = lines[0]\n",
    "proteinlen = len(protein)\n",
    "numbers = range(0, proteinlen, 60)  # start, stop, step size\n",
    "for index in numbers:\n",
    "    output = output + protein[index:index+60] + \"\\n\"\n",
    "print(output)"
   ]
  },
  {
   "cell_type": "markdown",
   "metadata": {},
   "source": [
    "**Question:** can you identify where in the code the fasta description line comes from?\n",
    "\n",
    "So, now we have the output we want, and we can print it to a file. We first open it, then write to it, and then close it again. Again, remove any print statements. `faa` indicates 'fasta amino acid'."
   ]
  },
  {
   "cell_type": "code",
   "execution_count": null,
   "metadata": {
    "collapsed": false
   },
   "outputs": [],
   "source": [
    "fo = open('hbb.faa', \"w\") # output file name\n",
    "fo.write(output)\n",
    "fo.close()"
   ]
  },
  {
   "cell_type": "markdown",
   "metadata": {},
   "source": [
    "Regarding output file name: be sure to use the name of a file that does not exist! You can find the file in the Notebook browser, click on the filename to see its content.\n",
    "\n",
    "Congratulations, you have now translated your very first protein!"
   ]
  }
 ],
 "metadata": {},
 "nbformat": 4,
 "nbformat_minor": 2
}
