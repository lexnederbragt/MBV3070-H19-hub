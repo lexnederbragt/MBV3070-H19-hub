{
 "cells": [
  {
   "cell_type": "markdown",
   "metadata": {},
   "source": [
    "# Python 5: Biopython\n",
    "\n",
    "We are now going to explore the Biopython package a bit.\n",
    "\n",
    "### Working with Seqs\n",
    "\n",
    "Note: for now we are working in the interactive shell.\n",
    "\n",
    "You are first going to figure out what we can do with a string stored as a co-called Seq object. To find all the methods for a specify type, do `help(type_name)`."
   ]
  },
  {
   "cell_type": "code",
   "execution_count": null,
   "metadata": {
    "collapsed": false
   },
   "outputs": [],
   "source": [
    "from Bio.Seq import Seq\n",
    "help(Seq)"
   ]
  },
  {
   "cell_type": "markdown",
   "metadata": {},
   "source": [
    "Now scroll through the help. Find the method that is named `__init__`. This method is the one that is run every time you create a Seq, and in this one you will find which kinds of data that you need to have to create one. This means that every Seq will have these set, i.e. have something there.\n",
    "\n",
    "**Question:** what kinds of data do you have to have to create a Seq?\n",
    "\n",
    "Everything you see in the help is a method. As you can see, there are lots of methods that are available. However, you should only use the ones without one or two underscores in the beginning.\n",
    "\n",
    "\n",
    "When you see methods described here, you will always as a parameter to the function see the word **self**. This just means that you specify that you are doing whatever you are doing on the object whose method you are using. This also means that you do not type in anything instead of self. I.e. if you see the method this_is_a_fake_method(self), you don't need to type in anything between the parenthesis. If you instead have this_is_a_fake_method(self, par1, par2), you will need to put in 2 parameters, corresponding to par1 and par2.\n",
    "\n",
    "First, we are going to create a new Seq. To do that, we need a string and an alphabet, i.e. the translation table between DNA (mRNA) and amino acids (these can actually vary between species). Strings are built in, so we only need to import an alphabet before creating our object."
   ]
  },
  {
   "cell_type": "code",
   "execution_count": null,
   "metadata": {
    "collapsed": false
   },
   "outputs": [],
   "source": [
    "from Bio.Alphabet import IUPAC\n",
    "my_seq = Seq(\"ATGGCC\", IUPAC.unambiguous_dna)"
   ]
  },
  {
   "cell_type": "markdown",
   "metadata": {},
   "source": [
    "Now, use the following methods on the my_seq seq: `my_seq.transcribe()`, `my_seq.translate()`, `my_seq.complement()`, `my_seq.reverse_complement()`. Type these in a code cell, then wrap them in a `print()` statement and explore the differences.\n",
    "\n",
    "Next, create an mRNA string instead. Make sure you use Us instead of Ts, and use the `unambigous_rna` alphabet. Try out the various methods again.\n",
    "\n",
    "**Question:** Can you find some methods that work with DNA, but not mRNA?\n",
    "\n",
    "### We can use normal string methods on Seq\n",
    "\n",
    "Remember how you did the \"normal\" string operations? Look at the previous exercises if you are uncertain.\n",
    "\n",
    "Many of the normal string methods work on Seq objects.\n",
    "\n",
    "Figure out how to do the following:\n",
    "\n",
    "%s\n",
    "  :   \n",
    "  how long `my_seq` is\n",
    "\n",
    "%s\n",
    "  :   \n",
    "  what the first letter is\n",
    "\n",
    "%s\n",
    "  :   \n",
    "  all of the sequence, except the first and last letter\n",
    "\n",
    "**Question:** can you see a difference in the results between the results from the first two and the last?\n",
    "\n",
    "### Creating SeqRecord objects\n",
    "\n",
    "SeqRecords hold not only the Seq, but also metadata.\n",
    "\n",
    "First, let's import them and see what help says about them:"
   ]
  },
  {
   "cell_type": "code",
   "execution_count": null,
   "metadata": {
    "collapsed": false
   },
   "outputs": [],
   "source": [
    "from Bio.SeqRecord import SeqRecord\n",
    "help(SeqRecord)"
   ]
  },
  {
   "cell_type": "markdown",
   "metadata": {},
   "source": [
    "**Question:** can you figure out what kind of data you need to have to create a SeqRecord?\n",
    "\n",
    "As you can see, many of the methods are simply the same methods as for Seq.\n",
    "\n",
    "Let's create a SeqRecord. The only thing you need to create a SeqRecord is a Seq, and a text string that will become the id."
   ]
  },
  {
   "cell_type": "code",
   "execution_count": null,
   "metadata": {
    "collapsed": false
   },
   "outputs": [],
   "source": [
    "seq_record = SeqRecord(seq = my_seq, id = \"MyID\")"
   ]
  },
  {
   "cell_type": "markdown",
   "metadata": {},
   "source": [
    "Print `seq_record`, and see what you come up with.\n",
    "\n",
    "Let us create a slightly more complicated one:"
   ]
  },
  {
   "cell_type": "code",
   "execution_count": null,
   "metadata": {
    "collapsed": false
   },
   "outputs": [],
   "source": [
    "protein_record = SeqRecord(Seq(\"MKQHKAMIVALIVICITAVVAALVTRKDLCEVHIRTGQTEVAVF\",\n",
    "                    IUPAC.protein),\n",
    "                    id=\"YP_025292.1\", name=\"HokC\",\n",
    "                    description=\"toxic membrane protein\")"
   ]
  },
  {
   "cell_type": "markdown",
   "metadata": {},
   "source": [
    "You will now try to access all of the data that is stored in this SeqRecord. Hint: to get to the id, you would type in `protein_record.id`.\n",
    "\n",
    "### Using SeqIO\n",
    "\n",
    "First, from now on we are working in a script file. So, the code below goes in a file that you save and then run with the command line in a Terminal window.\n",
    "\n",
    "Second, go to this page \"the genbank file macaca.gbk\": \"(data/macaca.gbk)\". This file contains only one genbank entry - we are going to have a look at it.\n",
    "\n",
    "Take the code shown below, and save it in a file called `read_gbk.py`. We are going to explore the genbank file by gradually expanding on this script."
   ]
  },
  {
   "cell_type": "code",
   "execution_count": null,
   "metadata": {
    "collapsed": false
   },
   "outputs": [],
   "source": [
    "import sys\n",
    "from Bio import SeqIO # Have to import the module to have access to it.\n",
    "\n",
    "fh = open(sys.argv[1], \"r\")\n",
    "gbk = next(SeqIO.parse(fh, \"genbank\")) # 'next' retrieves the actual record data\n",
    "fh.close()\n",
    "\n",
    "# Below here you type in the things I specify\n",
    "# you should look at later. The object you\n",
    "# are testing them on are macaca"
   ]
  },
  {
   "cell_type": "markdown",
   "metadata": {},
   "source": [
    "First, add `print(gbk)` at the bottom of the file, then save and run as `python read_gbk data/macaca.gbk`.\n",
    "\n",
    "**Questions:**\n",
    "\n",
    "* can you figure out what the id of this sequence is?\n",
    "\n",
    "* can you figure out which species this sequence is from?\n",
    "\n",
    "Second, remove the line specified above, add `print(gbk.id)`, save and run.\n",
    "Third, remove the line specified above, add `print(gbk.annotations)`, save and run.\n",
    "\n",
    "**Question:** can you figure out what kind of thing you printed out? You should see something with curly brackets, with elements inside with colons in between. Hint: you used them quite extensively when working with translation tables.\n",
    "\n",
    "Fourth, remove the line specified above, add `print(gbk.annotations[\"organism\"])`, save and run.\n",
    "\n",
    "### Add organism name to fasta description line\n",
    "\n",
    "Our goal now is to create a script so that it can\n",
    "\n",
    "* read a genbank file\n",
    "\n",
    "* access the organism name\n",
    "\n",
    "* add the name to the fasta description name\n",
    "\n",
    "* then print this out in fasta format.\n",
    "\n",
    "As you saw with the script above, you can do that by accessing the annotations of the genbank record.\n",
    "\n",
    "\n",
    "We first need a genbank file to work with, and here we will use the file \"mb.gbk\": \"(data/mb.gbk)\". Have a look at this file.\n",
    "\n",
    "**Question:** how many sequences does this genbank file contain?\n",
    "\n",
    "Next, save the following in a script file named `name_with_organism.py`"
   ]
  },
  {
   "cell_type": "code",
   "execution_count": null,
   "metadata": {
    "collapsed": false
   },
   "outputs": [],
   "source": [
    "import sys\n",
    "from Bio import SeqIO\n",
    "from Bio.SeqRecord import SeqRecord\n",
    "\n",
    "fh = open(sys.argv[1], \"r\")\n",
    "\n",
    "for record in SeqIO.parse(fh, \"genbank\"):\n",
    "    print(record.id)\n",
    "\n",
    "fh.close()"
   ]
  },
  {
   "cell_type": "markdown",
   "metadata": {},
   "source": [
    "Run it, (`python name_with_organism.py data/mb.gbk`) and you will see the ids of the sequences in the `mb.gbk` file printed on screen.\n",
    "\n",
    "**Question:** does this confirm many sequences you found in the gbk file?\n",
    "\n",
    "Try running it with the macaca file too.\n",
    "\n",
    "\n",
    "Now, can you remember how you could get at the organism of a sequence? Add a print statement that will print this out on the line after `print(record.id)`, so that you will first get one line with the id of the sequence, and one with the organism name.\n",
    "\n",
    "As you can see, these are now just strings. Strings can be added together.\n",
    "\n",
    "In this case, we have two words in our string, the genus name and the species name. We will only use the species name.\n",
    "\n",
    "**Question:** In a string with two words, what do you use to get at only the last word?\n",
    "\n",
    "We are now going to create a new id for each entry. This can be done by doing this:"
   ]
  },
  {
   "cell_type": "code",
   "execution_count": null,
   "metadata": {
    "collapsed": false
   },
   "outputs": [],
   "source": [
    "# Note: we are now inside the for loop\n",
    "organism = record.annotations['organism']\n",
    "species_name = organism.split()[1]\n",
    "record.id = species_name + \"_\" + record.id"
   ]
  },
  {
   "cell_type": "markdown",
   "metadata": {},
   "source": [
    "Add a print statement inside the for loop after you have assigned a new value to `record.id`, so that you get to see what this is.\n",
    "\n",
    "\n",
    "\n",
    "We are now going to write this out to file. We now need to also have an out file open.\n",
    "\n",
    "Look at this example and figure out which portions of this you need in your own script. The example *only* converts from genbank to fasta format without changing the id."
   ]
  },
  {
   "cell_type": "code",
   "execution_count": null,
   "metadata": {
    "collapsed": false
   },
   "outputs": [],
   "source": [
    "from Bio import SeqIO\n",
    "from Bio.SeqRecord import SeqRecord\n",
    "\n",
    "fh = open(sys.argv[1], \"r\")\n",
    "fo = open(sys.argv[2], \"w\")\n",
    "\n",
    "for record in SeqIO.parse(fh, \"genbank\"):\n",
    "    SeqIO.write(record, fo, \"fasta\")\n",
    "fh.close()\n",
    "fo.close()"
   ]
  },
  {
   "cell_type": "markdown",
   "metadata": {},
   "source": [
    "Use the correct elements and adjust the command given to run the script.\n",
    "\n",
    "Congratulations, you have now created your own custom conversion script!\n",
    "\n",
    "\n",
    "### More on biopython\n",
    "\n",
    "You can find a full listing of everything in Biopython here:\n",
    "\n",
    "http://biopython.org/DIST/docs/api/"
   ]
  }
 ],
 "metadata": {},
 "nbformat": 4,
 "nbformat_minor": 2
}
